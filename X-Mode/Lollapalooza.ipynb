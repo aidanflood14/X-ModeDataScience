{
 "cells": [
  {
   "cell_type": "code",
   "execution_count": 2,
   "metadata": {},
   "outputs": [],
   "source": [
    "import pandas as pd\n",
    "import numpy as np\n",
    "import re\n",
    "\n",
    "import urllib \n",
    "import requests\n",
    "\n",
    "from selenium import webdriver\n",
    "from selenium.webdriver.common.keys import Keys\n",
    "from bs4 import BeautifulSoup\n",
    "import json\n",
    "from IPython.core.interactiveshell import InteractiveShell\n",
    "InteractiveShell.ast_node_interactivity = \"all\" #or “last_expr”\n",
    "from datetime import date\n",
    "import calendar\n",
    "from datetime import time, timedelta\n"
   ]
  },
  {
   "cell_type": "markdown",
   "metadata": {},
   "source": [
    "# Getting Data"
   ]
  },
  {
   "cell_type": "code",
   "execution_count": 3,
   "metadata": {},
   "outputs": [],
   "source": [
    "a = pd.read_parquet('/Users/aidanflood14/Downloads/20190807_161525_00140_c4sx9_3ac07b18-5095-4b99-8dfc-e32ecb92f085')\n",
    "b = pd.read_parquet('/Users/aidanflood14/Downloads/20190807_161525_00140_c4sx9_17d59fa2-4e3e-448d-9e39-09ffc265160f')\n",
    "c = pd.read_parquet('/Users/aidanflood14/Downloads/20190807_161525_00140_c4sx9_6565db64-53e0-4cfd-bf2d-9cc8590e8dee')\n",
    "d = pd.read_parquet('/Users/aidanflood14/Downloads/20190805_201513_00239_c4sx9_cec68909-6cc6-4671-b42b-d1ac07394600')\n",
    "e = pd.read_parquet('/Users/aidanflood14/Downloads/20190805_201513_00239_c4sx9_eb085114-e37b-49c0-baea-22e95a4371e7')\n",
    "f = pd.read_parquet('/Users/aidanflood14/Downloads/20190805_201513_00239_c4sx9_532358aa-de1e-4ca7-83c2-aa0f6108fee9')\n",
    "\n",
    "df = pd.concat([a,b,c,d,e,f]).sort_values('location_at').reset_index(drop = True)\n",
    "df['location_at'] = df['location_at'].apply(lambda x: x - timedelta(hours = 5))\n",
    "df['day_of_week'] = df['location_at'].apply(lambda x: calendar.day_name[x.weekday()])\n",
    "df = df[df['day_of_week'].isin(['Thursday', 'Friday', 'Saturday', 'Sunday'])].reset_index(drop=True)\n",
    "df['time'] = df['location_at'].apply(lambda x: x.time())"
   ]
  },
  {
   "cell_type": "code",
   "execution_count": 4,
   "metadata": {},
   "outputs": [],
   "source": [
    "df.to_csv('/Users/aidanflood14/Desktop/X-Mode/LollapaloozaData.csv')"
   ]
  },
  {
   "cell_type": "markdown",
   "metadata": {},
   "source": [
    "---"
   ]
  },
  {
   "cell_type": "markdown",
   "metadata": {},
   "source": [
    "# Messing Around with Kepler"
   ]
  },
  {
   "cell_type": "code",
   "execution_count": 112,
   "metadata": {},
   "outputs": [
    {
     "name": "stdout",
     "output_type": "stream",
     "text": [
      "User Guide: https://github.com/keplergl/kepler.gl/blob/master/docs/keplergl-jupyter/user-guide.md\n"
     ]
    }
   ],
   "source": [
    "import keplergl\n",
    "from keplergl import KeplerGl\n",
    "map_1 = KeplerGl()"
   ]
  },
  {
   "cell_type": "code",
   "execution_count": 114,
   "metadata": {},
   "outputs": [],
   "source": [
    "map_1.add_data(data=df[df['advertiser_id'].isin(weird)])\n"
   ]
  },
  {
   "cell_type": "markdown",
   "metadata": {},
   "source": [
    "# Amount of People Each Day"
   ]
  },
  {
   "cell_type": "code",
   "execution_count": 5,
   "metadata": {},
   "outputs": [
    {
     "data": {
      "text/plain": [
       "{'Friday': 7827, 'Thursday': 6497, 'Saturday': 7236, 'Sunday': 7673}"
      ]
     },
     "execution_count": 5,
     "metadata": {},
     "output_type": "execute_result"
    }
   ],
   "source": [
    "thurs_total = len(df[df['day_of_week'] == 'Thursday'].advertiser_id.unique())\n",
    "fri_total = len(df[df['day_of_week'] == 'Friday'].advertiser_id.unique())\n",
    "sat_total = len(df[df['day_of_week'] == 'Saturday'].advertiser_id.unique())\n",
    "sun_total = len(df[df['day_of_week'] == 'Sunday'].advertiser_id.unique())\n",
    "total_dict = {'Friday' : fri_total, 'Thursday' : thurs_total, 'Saturday':sat_total, 'Sunday':sun_total}\n",
    "total_dict"
   ]
  },
  {
   "cell_type": "code",
   "execution_count": null,
   "metadata": {},
   "outputs": [],
   "source": []
  },
  {
   "cell_type": "code",
   "execution_count": 10,
   "metadata": {},
   "outputs": [],
   "source": [
    "def amount_of_people():\n",
    "    while True:\n",
    "        try:\n",
    "            day_options = ['Thursday', 'Friday', 'Saturday', 'Sunday']\n",
    "            for i in range(len(day_options)):\n",
    "                print(str(i+1) + \":\", day_options[i])\n",
    "\n",
    "                # Take user input and get the corresponding item from the list\n",
    "            day_selected = int(input(\"Enter a number: \"))\n",
    "            day_selected = day_options[day_selected - 1]\n",
    "            print(\"\\n\")\n",
    "            break\n",
    "        except:\n",
    "            print(\"\\n\")\n",
    "            print(\"Error: You must enter a valid number\")\n",
    "            print(\"\\n\")\n",
    "    \n",
    "    print('You selected ' + day_selected)\n",
    "    print(\"\\n\")\n",
    "    while True:\n",
    "        try:\n",
    "            stage_options = ['T Mobile Stage', 'Bud Light Stage', 'Lake Shore Stage', \"Tito's Stage\", 'BMI Stage', \"Perry's Stage\", 'American Eagle Stage', 'Kidzapalooza']\n",
    "            # Print out your options\n",
    "            for i in range(len(stage_options)):\n",
    "                print(str(i+1) + \":\", stage_options[i])\n",
    "\n",
    "                # Take user input and get the corresponding item from the list\n",
    "            stage = int(input(\"Enter a number: \"))\n",
    "            stage = stage_options[stage - 1]\n",
    "            print(\"\\n\")\n",
    "            break\n",
    "        except:\n",
    "            print(\"\\n\")\n",
    "            print(\"Error: You must enter a valid number\")\n",
    "            print(\"\\n\")\n",
    "    print('You selected ' + stage)\n",
    "    print(\"\\n\")\n",
    "    while True:\n",
    "        try:\n",
    "            start_time= input('Start time in military time: ').split(\":\")\n",
    "            start_time_hour = int(start_time[0])\n",
    "            start_time_minute = int(start_time[1])\n",
    "            start_time_valid = time(start_time_hour, start_time_minute)\n",
    "            break\n",
    "        except:\n",
    "            print(\"\\n\")\n",
    "            print(\"Enter data in this format 'hh:mm' with hour in 0 to 23 and minutes in 0 to 59\")\n",
    "            print(\"\\n\")\n",
    "              \n",
    "        \n",
    "    while True:\n",
    "        try:\n",
    "            end_time = input('End time in military time: ').split(\":\")\n",
    "            end_time_hour = int(end_time[0])\n",
    "            end_time_minute = int(end_time[1])\n",
    "            end_time_valid = time(end_time_hour, end_time_minute)\n",
    "            break\n",
    "        except:\n",
    "            print(\"\\n\")\n",
    "            print(\"Enter data in this format 'hh:mm' with hour in 0 to 23 and minutes in 0 to 59\")\n",
    "            print(\"\\n\")\n",
    "            \n",
    "    time_range = [start_time_valid, end_time_valid]\n",
    "    \n",
    "    \n",
    "    temp_df = df[(df['geo_name'] == stage)& (df['day_of_week'] == day_selected)&(df['time'] >= time_range[0]) & (df['time'] \n",
    "        <= time_range[1])].drop_duplicates('advertiser_id').groupby(['geo_name','day_of_week']).count().reset_index()\n",
    "    temp_df['Total People at Park that Day'] = temp_df['day_of_week'].map(total_dict)\n",
    "    temp_df['Percentage Represented of People that Day'] = 100 * np.array(temp_df['advertiser_id']) / np.array(temp_df['Total People at Park that Day'])\n",
    "    temp_df.rename(columns = {'advertiser_id':'People Attending Stage at that Time', 'geo_name': 'Stage Selected', 'day_of_week': 'Day Selected'}, inplace = True)\n",
    "    temp_df = temp_df.drop(['latitude', 'longitude', 'location_at', 'horizontal_accuracy', 'speed', 'geo_description', 'time'], axis = 1).sort_values('Total People at Park that Day').reset_index(drop = True)\n",
    "    \n",
    "    return temp_df\n",
    "    \n",
    "    "
   ]
  },
  {
   "cell_type": "code",
   "execution_count": 11,
   "metadata": {
    "collapsed": true
   },
   "outputs": [
    {
     "name": "stdout",
     "output_type": "stream",
     "text": [
      "1: Thursday\n",
      "2: Friday\n",
      "3: Saturday\n",
      "4: Sunday\n",
      "Enter a number: ndh\n",
      "\n",
      "\n",
      "Error: You must enter a valid number\n",
      "\n",
      "\n",
      "1: Thursday\n",
      "2: Friday\n",
      "3: Saturday\n",
      "4: Sunday\n",
      "Enter a number: select * from\n",
      "\n",
      "\n",
      "Error: You must enter a valid number\n",
      "\n",
      "\n",
      "1: Thursday\n",
      "2: Friday\n",
      "3: Saturday\n",
      "4: Sunday\n",
      "Enter a number: 3\n",
      "\n",
      "\n",
      "You selected Saturday\n",
      "\n",
      "\n",
      "1: T Mobile Stage\n",
      "2: Bud Light Stage\n",
      "3: Lake Shore Stage\n",
      "4: Tito's Stage\n",
      "5: BMI Stage\n",
      "6: Perry's Stage\n",
      "7: American Eagle Stage\n",
      "8: Kidzapalooza\n",
      "Enter a number: 00\n",
      "\n",
      "\n",
      "You selected Kidzapalooza\n",
      "\n",
      "\n",
      "Start time in military time: fgn\n",
      "\n",
      "\n",
      "Enter data in this format 'hh:mm' with hour in 0 to 23 and minutes in 0 to 59\n",
      "\n",
      "\n",
      "Start time in military time: 9;00\n",
      "\n",
      "\n",
      "Enter data in this format 'hh:mm' with hour in 0 to 23 and minutes in 0 to 59\n",
      "\n",
      "\n",
      "Start time in military time: 0:20\n",
      "End time in military time: 19:23\n"
     ]
    },
    {
     "data": {
      "text/html": [
       "<div>\n",
       "<style scoped>\n",
       "    .dataframe tbody tr th:only-of-type {\n",
       "        vertical-align: middle;\n",
       "    }\n",
       "\n",
       "    .dataframe tbody tr th {\n",
       "        vertical-align: top;\n",
       "    }\n",
       "\n",
       "    .dataframe thead th {\n",
       "        text-align: right;\n",
       "    }\n",
       "</style>\n",
       "<table border=\"1\" class=\"dataframe\">\n",
       "  <thead>\n",
       "    <tr style=\"text-align: right;\">\n",
       "      <th></th>\n",
       "      <th>Stage Selected</th>\n",
       "      <th>Day Selected</th>\n",
       "      <th>People Attending Stage at that Time</th>\n",
       "      <th>Total People at Park that Day</th>\n",
       "      <th>Percentage Represented of People that Day</th>\n",
       "    </tr>\n",
       "  </thead>\n",
       "  <tbody>\n",
       "    <tr>\n",
       "      <th>0</th>\n",
       "      <td>Kidzapalooza</td>\n",
       "      <td>Saturday</td>\n",
       "      <td>156</td>\n",
       "      <td>7236</td>\n",
       "      <td>2.155887</td>\n",
       "    </tr>\n",
       "  </tbody>\n",
       "</table>\n",
       "</div>"
      ],
      "text/plain": [
       "  Stage Selected Day Selected  People Attending Stage at that Time  \\\n",
       "0   Kidzapalooza     Saturday                                  156   \n",
       "\n",
       "   Total People at Park that Day  Percentage Represented of People that Day  \n",
       "0                           7236                                   2.155887  "
      ]
     },
     "execution_count": 11,
     "metadata": {},
     "output_type": "execute_result"
    }
   ],
   "source": [
    "amount_of_people()\n"
   ]
  },
  {
   "cell_type": "code",
   "execution_count": null,
   "metadata": {},
   "outputs": [],
   "source": [
    "thurs_df = df[df['day_of_week'] == 'Thursday']\n",
    "fri_df = df[df['day_of_week'] == 'Friday']\n",
    "sat_df = df[df['day_of_week'] == 'Saturday']\n",
    "sun_df = df[df['day_of_week'] == 'Sunday']"
   ]
  },
  {
   "cell_type": "code",
   "execution_count": 12,
   "metadata": {},
   "outputs": [],
   "source": [
    "def amount_of_people(d):\n",
    "    full_df = pd.DataFrame()\n",
    "    days = list(d.keys())\n",
    "    for day in days:\n",
    "        day_dict = d.get(day)\n",
    "        stages = list(day_dict.keys())\n",
    "        for stage in stages:\n",
    "            hours = day_dict.get(stage)\n",
    "            for hour in hours:\n",
    "                print('i')\n",
    "                time_range = [hour[0],hour[1]]\n",
    "                print(time_range)\n",
    "                temp_df = df[(df['day_of_week'] == day) & (df['geo_name'] == stage)& (df['time'] > \n",
    "                    time_range[0]) & (df['time'] < time_range[1])].drop_duplicates('advertiser_id').groupby(['geo_name','day_of_week']).count().reset_index()\n",
    "                temp_df['Total People at Park that Day'] = temp_df['day_of_week'].map(total_dict)\n",
    "                temp_df['Percentage of People of Park'] = 100 * np.array(temp_df['advertiser_id']) / np.array(temp_df['Total People at Park that Day'])\n",
    "                temp_df.rename(columns = {'advertiser_id':'People Attending Stage at that Time'}, inplace = True)\n",
    "                temp_df = temp_df.drop(['latitude', 'longitude', 'location_at', 'horizontal_accuracy', 'speed', 'geo_description', 'time'], axis = 1).sort_values('Total People at Park that Day').reset_index(drop = True)\n",
    "                full_df = pd.concat([full_df, temp_df])\n",
    "    return full_df\n",
    "    \n",
    "    "
   ]
  },
  {
   "cell_type": "code",
   "execution_count": 13,
   "metadata": {},
   "outputs": [
    {
     "name": "stdout",
     "output_type": "stream",
     "text": [
      "i\n"
     ]
    },
    {
     "ename": "IndexError",
     "evalue": "string index out of range",
     "output_type": "error",
     "traceback": [
      "\u001b[0;31m---------------------------------------------------------------------------\u001b[0m",
      "\u001b[0;31mIndexError\u001b[0m                                Traceback (most recent call last)",
      "\u001b[0;32m<ipython-input-13-789885387391>\u001b[0m in \u001b[0;36m<module>\u001b[0;34m\u001b[0m\n\u001b[0;32m----> 1\u001b[0;31m \u001b[0mamount_of_people\u001b[0m\u001b[0;34m(\u001b[0m\u001b[0md\u001b[0m\u001b[0;34m)\u001b[0m\u001b[0;34m\u001b[0m\u001b[0;34m\u001b[0m\u001b[0m\n\u001b[0m",
      "\u001b[0;32m<ipython-input-12-bda0976a95bc>\u001b[0m in \u001b[0;36mamount_of_people\u001b[0;34m(d)\u001b[0m\n\u001b[1;32m      9\u001b[0m             \u001b[0;32mfor\u001b[0m \u001b[0mhour\u001b[0m \u001b[0;32min\u001b[0m \u001b[0mhours\u001b[0m\u001b[0;34m:\u001b[0m\u001b[0;34m\u001b[0m\u001b[0;34m\u001b[0m\u001b[0m\n\u001b[1;32m     10\u001b[0m                 \u001b[0mprint\u001b[0m\u001b[0;34m(\u001b[0m\u001b[0;34m'i'\u001b[0m\u001b[0;34m)\u001b[0m\u001b[0;34m\u001b[0m\u001b[0;34m\u001b[0m\u001b[0m\n\u001b[0;32m---> 11\u001b[0;31m                 \u001b[0mtime_range\u001b[0m \u001b[0;34m=\u001b[0m \u001b[0;34m[\u001b[0m\u001b[0mhour\u001b[0m\u001b[0;34m[\u001b[0m\u001b[0;36m0\u001b[0m\u001b[0;34m]\u001b[0m\u001b[0;34m,\u001b[0m\u001b[0mhour\u001b[0m\u001b[0;34m[\u001b[0m\u001b[0;36m1\u001b[0m\u001b[0;34m]\u001b[0m\u001b[0;34m]\u001b[0m\u001b[0;34m\u001b[0m\u001b[0;34m\u001b[0m\u001b[0m\n\u001b[0m\u001b[1;32m     12\u001b[0m                 \u001b[0mprint\u001b[0m\u001b[0;34m(\u001b[0m\u001b[0mtime_range\u001b[0m\u001b[0;34m)\u001b[0m\u001b[0;34m\u001b[0m\u001b[0;34m\u001b[0m\u001b[0m\n\u001b[1;32m     13\u001b[0m                 temp_df = df[(df['day_of_week'] == day) & (df['geo_name'] == stage)& (df['time'] > \n",
      "\u001b[0;31mIndexError\u001b[0m: string index out of range"
     ]
    }
   ],
   "source": [
    "amount_of_people(d)"
   ]
  },
  {
   "cell_type": "code",
   "execution_count": null,
   "metadata": {},
   "outputs": [],
   "source": []
  }
 ],
 "metadata": {
  "kernelspec": {
   "display_name": "Python 3",
   "language": "python",
   "name": "python3"
  },
  "language_info": {
   "codemirror_mode": {
    "name": "ipython",
    "version": 3
   },
   "file_extension": ".py",
   "mimetype": "text/x-python",
   "name": "python",
   "nbconvert_exporter": "python",
   "pygments_lexer": "ipython3",
   "version": "3.7.3"
  }
 },
 "nbformat": 4,
 "nbformat_minor": 2
}
